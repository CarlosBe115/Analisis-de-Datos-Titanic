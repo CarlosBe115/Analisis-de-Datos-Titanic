{
 "cells": [
  {
   "cell_type": "markdown",
   "metadata": {
    "tags": []
   },
   "source": [
    "# Analisis del Proyecto Van Y Ven\n"
   ]
  },
  {
   "cell_type": "code",
   "execution_count": 14,
   "metadata": {
    "tags": []
   },
   "outputs": [],
   "source": [
    "# Importando modulos de análisis\n",
    "\n",
    "import pandas as pd\n",
    "import matplotlib.pyplot as plt\n",
    "import seaborn as sns\n",
    "sns.set_style(\"darkgrid\") # estilo de salida de las gráficas\n",
    "from datetime import datetime"
   ]
  },
  {
   "cell_type": "code",
   "execution_count": null,
   "metadata": {},
   "outputs": [],
   "source": [
    "# Leyendo los datos\n",
    "viajes = pd.read_csv('./../data/2018-10.csv')\n",
    "viajes.head()"
   ]
  },
  {
   "cell_type": "code",
   "execution_count": null,
   "metadata": {},
   "outputs": [],
   "source": [
    "# concatenar Hora_Retiro y Fecha_Retiro\n",
    "viajes['fecha_hora_retiro'] = viajes.Fecha_Retiro + ' ' + viajes.Hora_Retiro\n",
    "\n",
    "# cambiar de str a datetime\n",
    "viajes['fecha_hora'] = viajes.fecha_hora_retiro \\\n",
    "                             .map(lambda x : datetime.strptime(x, '%d/%m/%Y %H:%M:%S'))\n",
    "\n",
    "# reindexar el dataframe\n",
    "viajes.index = viajes.fecha_hora\n",
    "\n",
    "# limpiar valores de otros años\n",
    "viajes = viajes.loc['2018-10']\n",
    "viajes.head()"
   ]
  },
  {
   "cell_type": "code",
   "execution_count": null,
   "metadata": {
    "scrolled": true
   },
   "outputs": [],
   "source": [
    "# resample y agregacion por dia de mes\n",
    "viajes_resample_day = viajes.Autobus.resample('H').count()\n",
    "\n",
    "# asignar día de la semana\n",
    "df_resample = pd.concat([viajes_resample_day], axis=1)\n",
    "df_resample['dayofweek'] = df_resample.index.dayofweek # 0 es lunes\n",
    "\n",
    "# lunes a viernes\n",
    "df_mon_to_fri = df_resample[df_resample.dayofweek.isin([0,1,2,3,4])].Autobus\n",
    "df_mon_to_fri.head()"
   ]
  },
  {
   "cell_type": "code",
   "execution_count": null,
   "metadata": {},
   "outputs": [],
   "source": [
    "df_mon_to_fri[0:(24*5)].plot()\n",
    "plt.show()"
   ]
  },
  {
   "cell_type": "code",
   "execution_count": null,
   "metadata": {},
   "outputs": [
    {
     "name": "stderr",
     "output_type": "stream",
     "text": [
      "C:\\Users\\carna\\anaconda3\\lib\\site-packages\\statsmodels\\tsa\\base\\tsa_model.py:471: ValueWarning: A date index has been provided, but it has no associated frequency information and so will be ignored when e.g. forecasting.\n",
      "  self._init_dates(dates, freq)\n",
      "C:\\Users\\carna\\anaconda3\\lib\\site-packages\\statsmodels\\tsa\\base\\tsa_model.py:471: ValueWarning: A date index has been provided, but it has no associated frequency information and so will be ignored when e.g. forecasting.\n",
      "  self._init_dates(dates, freq)\n"
     ]
    }
   ],
   "source": [
    "from statsmodels.tsa.statespace.sarimax import SARIMAX\n",
    "\n",
    "# definir conjunto de datos\n",
    "x = df_mon_to_fri\n",
    "\n",
    "# instanciar modelo\n",
    "sarima_model = SARIMAX(x, order=(2,0,1), seasonal_order=(2, 1, 0, 24))\n",
    "\n",
    "# ajustar modelo\n",
    "results = sarima_model.fit()\n",
    "\n",
    "# mirar el AIC\n",
    "results.aic"
   ]
  },
  {
   "cell_type": "code",
   "execution_count": null,
   "metadata": {},
   "outputs": [],
   "source": [
    "# tomar de datos originales dias 29-oct, 30-oct, y 31-oct\n",
    "df_29_31 = df_mon_to_fri.loc['2018-10-29':'2018-10-31']\n",
    "df_29_31.plot()\n",
    "\n",
    "# agregar bandas de confianza\n",
    "pred_1_2_conf = results.get_forecast(steps=24*2).conf_int()\n",
    "pred_1_2_conf.index = pd.date_range(start='11/1/2018', end='11/3/2018', freq='H')[:-1]\n",
    "x = pd.date_range(start='11/1/2018', end='11/3/2018', freq='H')[:-1]\n",
    "y1 = pred_1_2_conf['lower Bici']\n",
    "y2 = pred_1_2_conf['upper Bici']\n",
    "plt.fill_between(x, y1, y2, alpha=0.6)\n",
    "\n",
    "# predecir para 1-nov y 2-nov\n",
    "pred_1_2 = results.get_forecast(steps=24*2).predicted_mean\n",
    "pred_1_2.index = pd.date_range(start='11/1/2018', end='11/3/2018', freq='H')[:-1]\n",
    "pred_1_2.plot()\n",
    "\n",
    "# formato de la grafica final\n",
    "plt.title('Pronóstico de viajes')\n",
    "plt.ylabel('Cantidad de viajes')\n",
    "# plt.xlabel('Semana lun-29-oct al vie-02-nov')\n",
    "plt.xlabel(' ')\n",
    "plt.legend(('Datos originales octubre', 'Pronóstico noviembre'),\n",
    "           loc='lower left')\n",
    "plt.savefig('pronostico.png', dpi=200)\n",
    "plt.show()"
   ]
  },
  {
   "cell_type": "code",
   "execution_count": null,
   "metadata": {
    "collapsed": true,
    "jupyter": {
     "outputs_hidden": true
    }
   },
   "outputs": [],
   "source": []
  }
 ],
 "metadata": {
  "kernelspec": {
   "display_name": "Python 3 (ipykernel)",
   "language": "python",
   "name": "python3"
  },
  "language_info": {
   "codemirror_mode": {
    "name": "ipython",
    "version": 3
   },
   "file_extension": ".py",
   "mimetype": "text/x-python",
   "name": "python",
   "nbconvert_exporter": "python",
   "pygments_lexer": "ipython3",
   "version": "3.9.12"
  }
 },
 "nbformat": 4,
 "nbformat_minor": 4
}
