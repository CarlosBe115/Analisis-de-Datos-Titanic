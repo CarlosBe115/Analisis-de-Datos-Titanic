{
 "cells": [
  {
   "cell_type": "markdown",
   "metadata": {
    "tags": []
   },
   "source": [
    "# Analisis del Proyecto Van Y Ven\n"
   ]
  },
  {
   "cell_type": "code",
   "execution_count": 1,
   "metadata": {
    "tags": []
   },
   "outputs": [],
   "source": [
    "# Importando modulos de análisis\n",
    "\n",
    "import pandas as pd\n",
    "import matplotlib.pyplot as plt\n",
    "import seaborn as sns\n",
    "sns.set_style(\"darkgrid\") # estilo de salida de las gráficas\n",
    "from datetime import datetime"
   ]
  },
  {
   "cell_type": "code",
   "execution_count": 2,
   "metadata": {},
   "outputs": [
    {
     "data": {
      "text/html": [
       "<div>\n",
       "<style scoped>\n",
       "    .dataframe tbody tr th:only-of-type {\n",
       "        vertical-align: middle;\n",
       "    }\n",
       "\n",
       "    .dataframe tbody tr th {\n",
       "        vertical-align: top;\n",
       "    }\n",
       "\n",
       "    .dataframe thead th {\n",
       "        text-align: right;\n",
       "    }\n",
       "</style>\n",
       "<table border=\"1\" class=\"dataframe\">\n",
       "  <thead>\n",
       "    <tr style=\"text-align: right;\">\n",
       "      <th></th>\n",
       "      <th>Genero_Usuario</th>\n",
       "      <th>Edad_Usuario</th>\n",
       "      <th>Autobus</th>\n",
       "      <th>Ciclo_Estacion_Retiro</th>\n",
       "      <th>Fecha_Retiro</th>\n",
       "      <th>Hora_Retiro</th>\n",
       "      <th>Ciclo_Estacion_Arribo</th>\n",
       "      <th>Fecha_Arribo</th>\n",
       "      <th>Hora_Arribo</th>\n",
       "    </tr>\n",
       "  </thead>\n",
       "  <tbody>\n",
       "    <tr>\n",
       "      <th>0</th>\n",
       "      <td>M</td>\n",
       "      <td>58</td>\n",
       "      <td>2176</td>\n",
       "      <td>299</td>\n",
       "      <td>01/10/2018</td>\n",
       "      <td>00:00:02</td>\n",
       "      <td>75</td>\n",
       "      <td>01/10/2018</td>\n",
       "      <td>00:12:02</td>\n",
       "    </tr>\n",
       "    <tr>\n",
       "      <th>1</th>\n",
       "      <td>F</td>\n",
       "      <td>42</td>\n",
       "      <td>9816</td>\n",
       "      <td>43</td>\n",
       "      <td>01/10/2018</td>\n",
       "      <td>00:00:23</td>\n",
       "      <td>256</td>\n",
       "      <td>01/10/2018</td>\n",
       "      <td>00:15:02</td>\n",
       "    </tr>\n",
       "    <tr>\n",
       "      <th>2</th>\n",
       "      <td>M</td>\n",
       "      <td>30</td>\n",
       "      <td>11219</td>\n",
       "      <td>37</td>\n",
       "      <td>01/10/2018</td>\n",
       "      <td>00:00:34</td>\n",
       "      <td>1</td>\n",
       "      <td>01/10/2018</td>\n",
       "      <td>00:09:09</td>\n",
       "    </tr>\n",
       "    <tr>\n",
       "      <th>3</th>\n",
       "      <td>M</td>\n",
       "      <td>26</td>\n",
       "      <td>3910</td>\n",
       "      <td>123</td>\n",
       "      <td>01/10/2018</td>\n",
       "      <td>00:01:36</td>\n",
       "      <td>182</td>\n",
       "      <td>01/10/2018</td>\n",
       "      <td>00:37:22</td>\n",
       "    </tr>\n",
       "    <tr>\n",
       "      <th>4</th>\n",
       "      <td>M</td>\n",
       "      <td>29</td>\n",
       "      <td>11487</td>\n",
       "      <td>41</td>\n",
       "      <td>01/10/2018</td>\n",
       "      <td>00:02:39</td>\n",
       "      <td>30</td>\n",
       "      <td>01/10/2018</td>\n",
       "      <td>00:11:29</td>\n",
       "    </tr>\n",
       "  </tbody>\n",
       "</table>\n",
       "</div>"
      ],
      "text/plain": [
       "  Genero_Usuario  Edad_Usuario  Autobus  Ciclo_Estacion_Retiro Fecha_Retiro  \\\n",
       "0              M            58     2176                    299   01/10/2018   \n",
       "1              F            42     9816                     43   01/10/2018   \n",
       "2              M            30    11219                     37   01/10/2018   \n",
       "3              M            26     3910                    123   01/10/2018   \n",
       "4              M            29    11487                     41   01/10/2018   \n",
       "\n",
       "  Hora_Retiro  Ciclo_Estacion_Arribo Fecha_Arribo Hora_Arribo  \n",
       "0    00:00:02                     75   01/10/2018    00:12:02  \n",
       "1    00:00:23                    256   01/10/2018    00:15:02  \n",
       "2    00:00:34                      1   01/10/2018    00:09:09  \n",
       "3    00:01:36                    182   01/10/2018    00:37:22  \n",
       "4    00:02:39                     30   01/10/2018    00:11:29  "
      ]
     },
     "execution_count": 2,
     "metadata": {},
     "output_type": "execute_result"
    }
   ],
   "source": [
    "# Leyendo los datos\n",
    "viajes = pd.read_csv('./../data/2018-10.csv')\n",
    "viajes.head()"
   ]
  },
  {
   "cell_type": "code",
   "execution_count": 3,
   "metadata": {},
   "outputs": [
    {
     "data": {
      "text/html": [
       "<div>\n",
       "<style scoped>\n",
       "    .dataframe tbody tr th:only-of-type {\n",
       "        vertical-align: middle;\n",
       "    }\n",
       "\n",
       "    .dataframe tbody tr th {\n",
       "        vertical-align: top;\n",
       "    }\n",
       "\n",
       "    .dataframe thead th {\n",
       "        text-align: right;\n",
       "    }\n",
       "</style>\n",
       "<table border=\"1\" class=\"dataframe\">\n",
       "  <thead>\n",
       "    <tr style=\"text-align: right;\">\n",
       "      <th></th>\n",
       "      <th>Genero_Usuario</th>\n",
       "      <th>Edad_Usuario</th>\n",
       "      <th>Autobus</th>\n",
       "      <th>Ciclo_Estacion_Retiro</th>\n",
       "      <th>Fecha_Retiro</th>\n",
       "      <th>Hora_Retiro</th>\n",
       "      <th>Ciclo_Estacion_Arribo</th>\n",
       "      <th>Fecha_Arribo</th>\n",
       "      <th>Hora_Arribo</th>\n",
       "      <th>fecha_hora_retiro</th>\n",
       "      <th>fecha_hora</th>\n",
       "    </tr>\n",
       "    <tr>\n",
       "      <th>fecha_hora</th>\n",
       "      <th></th>\n",
       "      <th></th>\n",
       "      <th></th>\n",
       "      <th></th>\n",
       "      <th></th>\n",
       "      <th></th>\n",
       "      <th></th>\n",
       "      <th></th>\n",
       "      <th></th>\n",
       "      <th></th>\n",
       "      <th></th>\n",
       "    </tr>\n",
       "  </thead>\n",
       "  <tbody>\n",
       "    <tr>\n",
       "      <th>2018-10-01 00:00:02</th>\n",
       "      <td>M</td>\n",
       "      <td>58</td>\n",
       "      <td>2176</td>\n",
       "      <td>299</td>\n",
       "      <td>01/10/2018</td>\n",
       "      <td>00:00:02</td>\n",
       "      <td>75</td>\n",
       "      <td>01/10/2018</td>\n",
       "      <td>00:12:02</td>\n",
       "      <td>01/10/2018 00:00:02</td>\n",
       "      <td>2018-10-01 00:00:02</td>\n",
       "    </tr>\n",
       "    <tr>\n",
       "      <th>2018-10-01 00:00:23</th>\n",
       "      <td>F</td>\n",
       "      <td>42</td>\n",
       "      <td>9816</td>\n",
       "      <td>43</td>\n",
       "      <td>01/10/2018</td>\n",
       "      <td>00:00:23</td>\n",
       "      <td>256</td>\n",
       "      <td>01/10/2018</td>\n",
       "      <td>00:15:02</td>\n",
       "      <td>01/10/2018 00:00:23</td>\n",
       "      <td>2018-10-01 00:00:23</td>\n",
       "    </tr>\n",
       "    <tr>\n",
       "      <th>2018-10-01 00:00:34</th>\n",
       "      <td>M</td>\n",
       "      <td>30</td>\n",
       "      <td>11219</td>\n",
       "      <td>37</td>\n",
       "      <td>01/10/2018</td>\n",
       "      <td>00:00:34</td>\n",
       "      <td>1</td>\n",
       "      <td>01/10/2018</td>\n",
       "      <td>00:09:09</td>\n",
       "      <td>01/10/2018 00:00:34</td>\n",
       "      <td>2018-10-01 00:00:34</td>\n",
       "    </tr>\n",
       "    <tr>\n",
       "      <th>2018-10-01 00:01:36</th>\n",
       "      <td>M</td>\n",
       "      <td>26</td>\n",
       "      <td>3910</td>\n",
       "      <td>123</td>\n",
       "      <td>01/10/2018</td>\n",
       "      <td>00:01:36</td>\n",
       "      <td>182</td>\n",
       "      <td>01/10/2018</td>\n",
       "      <td>00:37:22</td>\n",
       "      <td>01/10/2018 00:01:36</td>\n",
       "      <td>2018-10-01 00:01:36</td>\n",
       "    </tr>\n",
       "    <tr>\n",
       "      <th>2018-10-01 00:02:39</th>\n",
       "      <td>M</td>\n",
       "      <td>29</td>\n",
       "      <td>11487</td>\n",
       "      <td>41</td>\n",
       "      <td>01/10/2018</td>\n",
       "      <td>00:02:39</td>\n",
       "      <td>30</td>\n",
       "      <td>01/10/2018</td>\n",
       "      <td>00:11:29</td>\n",
       "      <td>01/10/2018 00:02:39</td>\n",
       "      <td>2018-10-01 00:02:39</td>\n",
       "    </tr>\n",
       "  </tbody>\n",
       "</table>\n",
       "</div>"
      ],
      "text/plain": [
       "                    Genero_Usuario  Edad_Usuario  Autobus  \\\n",
       "fecha_hora                                                  \n",
       "2018-10-01 00:00:02              M            58     2176   \n",
       "2018-10-01 00:00:23              F            42     9816   \n",
       "2018-10-01 00:00:34              M            30    11219   \n",
       "2018-10-01 00:01:36              M            26     3910   \n",
       "2018-10-01 00:02:39              M            29    11487   \n",
       "\n",
       "                     Ciclo_Estacion_Retiro Fecha_Retiro Hora_Retiro  \\\n",
       "fecha_hora                                                            \n",
       "2018-10-01 00:00:02                    299   01/10/2018    00:00:02   \n",
       "2018-10-01 00:00:23                     43   01/10/2018    00:00:23   \n",
       "2018-10-01 00:00:34                     37   01/10/2018    00:00:34   \n",
       "2018-10-01 00:01:36                    123   01/10/2018    00:01:36   \n",
       "2018-10-01 00:02:39                     41   01/10/2018    00:02:39   \n",
       "\n",
       "                     Ciclo_Estacion_Arribo Fecha_Arribo Hora_Arribo  \\\n",
       "fecha_hora                                                            \n",
       "2018-10-01 00:00:02                     75   01/10/2018    00:12:02   \n",
       "2018-10-01 00:00:23                    256   01/10/2018    00:15:02   \n",
       "2018-10-01 00:00:34                      1   01/10/2018    00:09:09   \n",
       "2018-10-01 00:01:36                    182   01/10/2018    00:37:22   \n",
       "2018-10-01 00:02:39                     30   01/10/2018    00:11:29   \n",
       "\n",
       "                       fecha_hora_retiro          fecha_hora  \n",
       "fecha_hora                                                    \n",
       "2018-10-01 00:00:02  01/10/2018 00:00:02 2018-10-01 00:00:02  \n",
       "2018-10-01 00:00:23  01/10/2018 00:00:23 2018-10-01 00:00:23  \n",
       "2018-10-01 00:00:34  01/10/2018 00:00:34 2018-10-01 00:00:34  \n",
       "2018-10-01 00:01:36  01/10/2018 00:01:36 2018-10-01 00:01:36  \n",
       "2018-10-01 00:02:39  01/10/2018 00:02:39 2018-10-01 00:02:39  "
      ]
     },
     "execution_count": 3,
     "metadata": {},
     "output_type": "execute_result"
    }
   ],
   "source": [
    "# concatenar Hora_Retiro y Fecha_Retiro\n",
    "viajes['fecha_hora_retiro'] = viajes.Fecha_Retiro + ' ' + viajes.Hora_Retiro\n",
    "\n",
    "# cambiar de str a datetime\n",
    "viajes['fecha_hora'] = viajes.fecha_hora_retiro \\\n",
    "                             .map(lambda x : datetime.strptime(x, '%d/%m/%Y %H:%M:%S'))\n",
    "\n",
    "# reindexar el dataframe\n",
    "viajes.index = viajes.fecha_hora\n",
    "\n",
    "# limpiar valores de otros años\n",
    "viajes = viajes.loc['2018-10']\n",
    "viajes.head()"
   ]
  },
  {
   "cell_type": "code",
   "execution_count": 4,
   "metadata": {
    "scrolled": true
   },
   "outputs": [
    {
     "data": {
      "text/plain": [
       "fecha_hora\n",
       "2018-10-01 00:00:00    47\n",
       "2018-10-01 01:00:00     0\n",
       "2018-10-01 02:00:00     0\n",
       "2018-10-01 03:00:00     0\n",
       "2018-10-01 04:00:00     0\n",
       "Name: Autobus, dtype: int64"
      ]
     },
     "execution_count": 4,
     "metadata": {},
     "output_type": "execute_result"
    }
   ],
   "source": [
    "# resample y agregacion por dia de mes\n",
    "viajes_resample_day = viajes.Autobus.resample('H').count()\n",
    "\n",
    "# asignar día de la semana\n",
    "df_resample = pd.concat([viajes_resample_day], axis=1)\n",
    "df_resample['dayofweek'] = df_resample.index.dayofweek # 0 es lunes\n",
    "\n",
    "# lunes a viernes\n",
    "df_mon_to_fri = df_resample[df_resample.dayofweek.isin([0,1,2,3,4])].Autobus\n",
    "df_mon_to_fri.head()"
   ]
  },
  {
   "cell_type": "code",
   "execution_count": 5,
   "metadata": {},
   "outputs": [
    {
     "data": {
      "image/png": "[encoded data removed]",
      "text/plain": [
       "<Figure size 432x288 with 1 Axes>"
      ]
     },
     "metadata": {},
     "output_type": "display_data"
    }
   ],
   "source": [
    "df_mon_to_fri[0:(24*5)].plot()\n",
    "plt.show()"
   ]
  },
  {
   "cell_type": "code",
   "execution_count": 6,
   "metadata": {},
   "outputs": [
    {
     "name": "stderr",
     "output_type": "stream",
     "text": [
      "C:\\Users\\carna\\anaconda3\\lib\\site-packages\\statsmodels\\tsa\\base\\tsa_model.py:471: ValueWarning: A date index has been provided, but it has no associated frequency information and so will be ignored when e.g. forecasting.\n",
      "  self._init_dates(dates, freq)\n",
      "C:\\Users\\carna\\anaconda3\\lib\\site-packages\\statsmodels\\tsa\\base\\tsa_model.py:471: ValueWarning: A date index has been provided, but it has no associated frequency information and so will be ignored when e.g. forecasting.\n",
      "  self._init_dates(dates, freq)\n"
     ]
    },
    {
     "data": {
      "text/plain": [
       "7113.315343393358"
      ]
     },
     "execution_count": 6,
     "metadata": {},
     "output_type": "execute_result"
    }
   ],
   "source": [
    "from statsmodels.tsa.statespace.sarimax import SARIMAX\n",
    "\n",
    "# definir conjunto de datos\n",
    "x = df_mon_to_fri\n",
    "\n",
    "# instanciar modelo\n",
    "sarima_model = SARIMAX(x, order=(2,0,1), seasonal_order=(2, 1, 0, 24))\n",
    "\n",
    "# ajustar modelo\n",
    "results = sarima_model.fit()\n",
    "\n",
    "# mirar el AIC\n",
    "results.aic"
   ]
  },
  {
   "cell_type": "code",
   "execution_count": 7,
   "metadata": {},
   "outputs": [
    {
     "name": "stderr",
     "output_type": "stream",
     "text": [
      "C:\\Users\\carna\\anaconda3\\lib\\site-packages\\statsmodels\\tsa\\base\\tsa_model.py:834: ValueWarning: No supported index is available. Prediction results will be given with an integer index beginning at `start`.\n",
      "  return get_prediction_index(\n"
     ]
    },
    {
     "ename": "KeyError",
     "evalue": "'lower Bici'",
     "output_type": "error",
     "traceback": [
      "\u001b[1;31m---------------------------------------------------------------------------\u001b[0m",
      "\u001b[1;31mKeyError\u001b[0m                                  Traceback (most recent call last)",
      "File \u001b[1;32m~\\anaconda3\\lib\\site-packages\\pandas\\core\\indexes\\base.py:3621\u001b[0m, in \u001b[0;36mIndex.get_loc\u001b[1;34m(self, key, method, tolerance)\u001b[0m\n\u001b[0;32m   3620\u001b[0m \u001b[38;5;28;01mtry\u001b[39;00m:\n\u001b[1;32m-> 3621\u001b[0m     \u001b[38;5;28;01mreturn\u001b[39;00m \u001b[38;5;28;43mself\u001b[39;49m\u001b[38;5;241;43m.\u001b[39;49m\u001b[43m_engine\u001b[49m\u001b[38;5;241;43m.\u001b[39;49m\u001b[43mget_loc\u001b[49m\u001b[43m(\u001b[49m\u001b[43mcasted_key\u001b[49m\u001b[43m)\u001b[49m\n\u001b[0;32m   3622\u001b[0m \u001b[38;5;28;01mexcept\u001b[39;00m \u001b[38;5;167;01mKeyError\u001b[39;00m \u001b[38;5;28;01mas\u001b[39;00m err:\n",
      "File \u001b[1;32m~\\anaconda3\\lib\\site-packages\\pandas\\_libs\\index.pyx:136\u001b[0m, in \u001b[0;36mpandas._libs.index.IndexEngine.get_loc\u001b[1;34m()\u001b[0m\n",
      "File \u001b[1;32m~\\anaconda3\\lib\\site-packages\\pandas\\_libs\\index.pyx:163\u001b[0m, in \u001b[0;36mpandas._libs.index.IndexEngine.get_loc\u001b[1;34m()\u001b[0m\n",
      "File \u001b[1;32mpandas\\_libs\\hashtable_class_helper.pxi:5198\u001b[0m, in \u001b[0;36mpandas._libs.hashtable.PyObjectHashTable.get_item\u001b[1;34m()\u001b[0m\n",
      "File \u001b[1;32mpandas\\_libs\\hashtable_class_helper.pxi:5206\u001b[0m, in \u001b[0;36mpandas._libs.hashtable.PyObjectHashTable.get_item\u001b[1;34m()\u001b[0m\n",
      "\u001b[1;31mKeyError\u001b[0m: 'lower Bici'",
      "\nThe above exception was the direct cause of the following exception:\n",
      "\u001b[1;31mKeyError\u001b[0m                                  Traceback (most recent call last)",
      "Input \u001b[1;32mIn [7]\u001b[0m, in \u001b[0;36m<cell line: 9>\u001b[1;34m()\u001b[0m\n\u001b[0;32m      7\u001b[0m pred_1_2_conf\u001b[38;5;241m.\u001b[39mindex \u001b[38;5;241m=\u001b[39m pd\u001b[38;5;241m.\u001b[39mdate_range(start\u001b[38;5;241m=\u001b[39m\u001b[38;5;124m'\u001b[39m\u001b[38;5;124m11/1/2018\u001b[39m\u001b[38;5;124m'\u001b[39m, end\u001b[38;5;241m=\u001b[39m\u001b[38;5;124m'\u001b[39m\u001b[38;5;124m11/3/2018\u001b[39m\u001b[38;5;124m'\u001b[39m, freq\u001b[38;5;241m=\u001b[39m\u001b[38;5;124m'\u001b[39m\u001b[38;5;124mH\u001b[39m\u001b[38;5;124m'\u001b[39m)[:\u001b[38;5;241m-\u001b[39m\u001b[38;5;241m1\u001b[39m]\n\u001b[0;32m      8\u001b[0m x \u001b[38;5;241m=\u001b[39m pd\u001b[38;5;241m.\u001b[39mdate_range(start\u001b[38;5;241m=\u001b[39m\u001b[38;5;124m'\u001b[39m\u001b[38;5;124m11/1/2018\u001b[39m\u001b[38;5;124m'\u001b[39m, end\u001b[38;5;241m=\u001b[39m\u001b[38;5;124m'\u001b[39m\u001b[38;5;124m11/3/2018\u001b[39m\u001b[38;5;124m'\u001b[39m, freq\u001b[38;5;241m=\u001b[39m\u001b[38;5;124m'\u001b[39m\u001b[38;5;124mH\u001b[39m\u001b[38;5;124m'\u001b[39m)[:\u001b[38;5;241m-\u001b[39m\u001b[38;5;241m1\u001b[39m]\n\u001b[1;32m----> 9\u001b[0m y1 \u001b[38;5;241m=\u001b[39m \u001b[43mpred_1_2_conf\u001b[49m\u001b[43m[\u001b[49m\u001b[38;5;124;43m'\u001b[39;49m\u001b[38;5;124;43mlower Bici\u001b[39;49m\u001b[38;5;124;43m'\u001b[39;49m\u001b[43m]\u001b[49m\n\u001b[0;32m     10\u001b[0m y2 \u001b[38;5;241m=\u001b[39m pred_1_2_conf[\u001b[38;5;124m'\u001b[39m\u001b[38;5;124mupper Bici\u001b[39m\u001b[38;5;124m'\u001b[39m]\n\u001b[0;32m     11\u001b[0m plt\u001b[38;5;241m.\u001b[39mfill_between(x, y1, y2, alpha\u001b[38;5;241m=\u001b[39m\u001b[38;5;241m0.6\u001b[39m)\n",
      "File \u001b[1;32m~\\anaconda3\\lib\\site-packages\\pandas\\core\\frame.py:3505\u001b[0m, in \u001b[0;36mDataFrame.__getitem__\u001b[1;34m(self, key)\u001b[0m\n\u001b[0;32m   3503\u001b[0m \u001b[38;5;28;01mif\u001b[39;00m \u001b[38;5;28mself\u001b[39m\u001b[38;5;241m.\u001b[39mcolumns\u001b[38;5;241m.\u001b[39mnlevels \u001b[38;5;241m>\u001b[39m \u001b[38;5;241m1\u001b[39m:\n\u001b[0;32m   3504\u001b[0m     \u001b[38;5;28;01mreturn\u001b[39;00m \u001b[38;5;28mself\u001b[39m\u001b[38;5;241m.\u001b[39m_getitem_multilevel(key)\n\u001b[1;32m-> 3505\u001b[0m indexer \u001b[38;5;241m=\u001b[39m \u001b[38;5;28;43mself\u001b[39;49m\u001b[38;5;241;43m.\u001b[39;49m\u001b[43mcolumns\u001b[49m\u001b[38;5;241;43m.\u001b[39;49m\u001b[43mget_loc\u001b[49m\u001b[43m(\u001b[49m\u001b[43mkey\u001b[49m\u001b[43m)\u001b[49m\n\u001b[0;32m   3506\u001b[0m \u001b[38;5;28;01mif\u001b[39;00m is_integer(indexer):\n\u001b[0;32m   3507\u001b[0m     indexer \u001b[38;5;241m=\u001b[39m [indexer]\n",
      "File \u001b[1;32m~\\anaconda3\\lib\\site-packages\\pandas\\core\\indexes\\base.py:3623\u001b[0m, in \u001b[0;36mIndex.get_loc\u001b[1;34m(self, key, method, tolerance)\u001b[0m\n\u001b[0;32m   3621\u001b[0m     \u001b[38;5;28;01mreturn\u001b[39;00m \u001b[38;5;28mself\u001b[39m\u001b[38;5;241m.\u001b[39m_engine\u001b[38;5;241m.\u001b[39mget_loc(casted_key)\n\u001b[0;32m   3622\u001b[0m \u001b[38;5;28;01mexcept\u001b[39;00m \u001b[38;5;167;01mKeyError\u001b[39;00m \u001b[38;5;28;01mas\u001b[39;00m err:\n\u001b[1;32m-> 3623\u001b[0m     \u001b[38;5;28;01mraise\u001b[39;00m \u001b[38;5;167;01mKeyError\u001b[39;00m(key) \u001b[38;5;28;01mfrom\u001b[39;00m \u001b[38;5;21;01merr\u001b[39;00m\n\u001b[0;32m   3624\u001b[0m \u001b[38;5;28;01mexcept\u001b[39;00m \u001b[38;5;167;01mTypeError\u001b[39;00m:\n\u001b[0;32m   3625\u001b[0m     \u001b[38;5;66;03m# If we have a listlike key, _check_indexing_error will raise\u001b[39;00m\n\u001b[0;32m   3626\u001b[0m     \u001b[38;5;66;03m#  InvalidIndexError. Otherwise we fall through and re-raise\u001b[39;00m\n\u001b[0;32m   3627\u001b[0m     \u001b[38;5;66;03m#  the TypeError.\u001b[39;00m\n\u001b[0;32m   3628\u001b[0m     \u001b[38;5;28mself\u001b[39m\u001b[38;5;241m.\u001b[39m_check_indexing_error(key)\n",
      "\u001b[1;31mKeyError\u001b[0m: 'lower Bici'"
     ]
    },
    {
     "data": {
      "image/png": "[encoded data removed]",
      "text/plain": [
       "<Figure size 432x288 with 1 Axes>"
      ]
     },
     "metadata": {},
     "output_type": "display_data"
    }
   ],
   "source": [
    "# tomar de datos originales dias 29-oct, 30-oct, y 31-oct\n",
    "df_29_31 = df_mon_to_fri.loc['2018-10-29':'2018-10-31']\n",
    "df_29_31.plot()\n",
    "\n",
    "# agregar bandas de confianza\n",
    "pred_1_2_conf = results.get_forecast(steps=24*2).conf_int()\n",
    "pred_1_2_conf.index = pd.date_range(start='11/1/2018', end='11/3/2018', freq='H')[:-1]\n",
    "x = pd.date_range(start='11/1/2018', end='11/3/2018', freq='H')[:-1]\n",
    "y1 = pred_1_2_conf['lower Bici']\n",
    "y2 = pred_1_2_conf['upper Bici']\n",
    "plt.fill_between(x, y1, y2, alpha=0.6)\n",
    "\n",
    "# predecir para 1-nov y 2-nov\n",
    "pred_1_2 = results.get_forecast(steps=24*2).predicted_mean\n",
    "pred_1_2.index = pd.date_range(start='11/1/2018', end='11/3/2018', freq='H')[:-1]\n",
    "pred_1_2.plot()\n",
    "\n",
    "# formato de la grafica final\n",
    "plt.title('Pronóstico de viajes')\n",
    "plt.ylabel('Cantidad de viajes')\n",
    "# plt.xlabel('Semana lun-29-oct al vie-02-nov')\n",
    "plt.xlabel(' ')\n",
    "plt.legend(('Datos originales octubre', 'Pronóstico noviembre'),\n",
    "           loc='lower left')\n",
    "plt.savefig('pronostico.png', dpi=200)\n",
    "plt.show()"
   ]
  },
  {
   "cell_type": "code",
   "execution_count": null,
   "metadata": {
    "collapsed": true,
    "jupyter": {
     "outputs_hidden": true
    }
   },
   "outputs": [],
   "source": []
  }
 ],
 "metadata": {
  "kernelspec": {
   "display_name": "Python 3 (ipykernel)",
   "language": "python",
   "name": "python3"
  },
  "language_info": {
   "codemirror_mode": {
    "name": "ipython",
    "version": 3
   },
   "file_extension": ".py",
   "mimetype": "text/x-python",
   "name": "python",
   "nbconvert_exporter": "python",
   "pygments_lexer": "ipython3",
   "version": "3.9.12"
  }
 },
 "nbformat": 4,
 "nbformat_minor": 4
}
